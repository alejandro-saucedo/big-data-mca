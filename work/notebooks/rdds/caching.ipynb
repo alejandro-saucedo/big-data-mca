{
 "cells": [
  {
   "cell_type": "markdown",
   "id": "2c8fd3e7",
   "metadata": {},
   "source": [
    "# Caching and Persistence Example\n",
    "\n",
    "This example briefly shows how caching and persist work.\n",
    "\n",
    "Spark Web UI (localhost:4040) should be opened to visualize how RDDs are cached."
   ]
  },
  {
   "cell_type": "markdown",
   "id": "26b4900b",
   "metadata": {},
   "source": [
    "Materialize the tweets dataset. Check the storage tab from Web UI to verify that no RDD has been cached."
   ]
  },
  {
   "cell_type": "code",
   "execution_count": 53,
   "id": "03ff1752",
   "metadata": {},
   "outputs": [
    {
     "data": {
      "text/plain": [
       "78011"
      ]
     },
     "execution_count": 53,
     "metadata": {},
     "output_type": "execute_result"
    }
   ],
   "source": [
    "tweets = spark.sparkContext.textFile(\"/work/data/covid-tweets.json\")\n",
    "tweets.count()"
   ]
  },
  {
   "cell_type": "markdown",
   "id": "09da5ae4",
   "metadata": {},
   "source": [
    "Let's see how many partitions are:"
   ]
  },
  {
   "cell_type": "code",
   "execution_count": 54,
   "id": "5707b8cf",
   "metadata": {},
   "outputs": [
    {
     "data": {
      "text/plain": [
       "2"
      ]
     },
     "execution_count": 54,
     "metadata": {},
     "output_type": "execute_result"
    }
   ],
   "source": [
    "tweets.getNumPartitions()"
   ]
  },
  {
   "cell_type": "markdown",
   "id": "05c5fe15",
   "metadata": {},
   "source": [
    "## Cache"
   ]
  },
  {
   "cell_type": "markdown",
   "id": "da26dc11",
   "metadata": {},
   "source": [
    "Cache the dataset. Check Web UI to see if something changed in the storage tab."
   ]
  },
  {
   "cell_type": "code",
   "execution_count": 56,
   "id": "2dff3308",
   "metadata": {},
   "outputs": [
    {
     "data": {
      "text/plain": [
       "/work/data/covid-tweets.json MapPartitionsRDD[88] at textFile at <unknown>:0"
      ]
     },
     "execution_count": 56,
     "metadata": {},
     "output_type": "execute_result"
    }
   ],
   "source": [
    "tweets.cache()"
   ]
  },
  {
   "cell_type": "markdown",
   "id": "9337cf53",
   "metadata": {},
   "source": [
    "The RDD will be cached once it is materialized. Materialize tweets by running an action."
   ]
  },
  {
   "cell_type": "code",
   "execution_count": 57,
   "id": "53a857ae",
   "metadata": {},
   "outputs": [
    {
     "data": {
      "text/plain": [
       "78011"
      ]
     },
     "execution_count": 57,
     "metadata": {},
     "output_type": "execute_result"
    }
   ],
   "source": [
    "tweets.count()"
   ]
  },
  {
   "cell_type": "markdown",
   "id": "d270e0c0",
   "metadata": {},
   "source": [
    "## Persist\n",
    "\n",
    "Persist can cache an RDD in different ways defined by levels available at StorageLevel"
   ]
  },
  {
   "cell_type": "markdown",
   "id": "05d4badb",
   "metadata": {},
   "source": [
    "Let's cache in memory and disk"
   ]
  },
  {
   "cell_type": "code",
   "execution_count": 58,
   "id": "6d115342",
   "metadata": {},
   "outputs": [
    {
     "data": {
      "text/plain": [
       "/work/data/covid-tweets.json MapPartitionsRDD[92] at textFile at <unknown>:0"
      ]
     },
     "execution_count": 58,
     "metadata": {},
     "output_type": "execute_result"
    }
   ],
   "source": [
    "from pyspark import StorageLevel\n",
    "\n",
    "tweets_mem_disk = spark.sparkContext.textFile(\"/work/data/covid-tweets.json\")\n",
    "\n",
    "tweets_mem_disk.persist(StorageLevel.MEMORY_AND_DISK_2)"
   ]
  },
  {
   "cell_type": "markdown",
   "id": "e818fb4e",
   "metadata": {},
   "source": [
    "Materialize to actually cache the RDD"
   ]
  },
  {
   "cell_type": "code",
   "execution_count": 59,
   "id": "8612eee0",
   "metadata": {},
   "outputs": [
    {
     "data": {
      "text/plain": [
       "78011"
      ]
     },
     "execution_count": 59,
     "metadata": {},
     "output_type": "execute_result"
    }
   ],
   "source": [
    "tweets_mem_disk.count()"
   ]
  },
  {
   "cell_type": "markdown",
   "id": "bcdd7cd1",
   "metadata": {},
   "source": [
    "### Times"
   ]
  },
  {
   "cell_type": "markdown",
   "id": "b698047d",
   "metadata": {},
   "source": [
    "Transformation without caching"
   ]
  },
  {
   "cell_type": "code",
   "execution_count": 60,
   "id": "dc3c6bda",
   "metadata": {},
   "outputs": [
    {
     "name": "stdout",
     "output_type": "stream",
     "text": [
      "24838\n",
      "CPU times: user 7.14 ms, sys: 3.2 ms, total: 10.3 ms\n",
      "Wall time: 244 ms\n"
     ]
    }
   ],
   "source": [
    "def transform_without_caching():\n",
    "    tweets = spark.sparkContext.textFile(\"/work/data/covid-tweets.json\")\n",
    "    filtered = tweets.filter(lambda tweet: len(tweet) > 190)\n",
    "    print(filtered.count())\n",
    "%time transform_without_caching()"
   ]
  },
  {
   "cell_type": "markdown",
   "id": "65d5f54d",
   "metadata": {},
   "source": [
    "Transformation time with a cached RDD"
   ]
  },
  {
   "cell_type": "code",
   "execution_count": 61,
   "id": "f8c0aba5",
   "metadata": {},
   "outputs": [
    {
     "data": {
      "text/plain": [
       "78011"
      ]
     },
     "execution_count": 61,
     "metadata": {},
     "output_type": "execute_result"
    }
   ],
   "source": [
    "tweets = spark.sparkContext.textFile(\"/work/data/covid-tweets.json\")\n",
    "tweets.cache()\n",
    "tweets.count()"
   ]
  },
  {
   "cell_type": "code",
   "execution_count": 62,
   "id": "59ce7310",
   "metadata": {},
   "outputs": [
    {
     "name": "stdout",
     "output_type": "stream",
     "text": [
      "24838\n",
      "CPU times: user 7.23 ms, sys: 2.33 ms, total: 9.56 ms\n",
      "Wall time: 178 ms\n"
     ]
    }
   ],
   "source": [
    "def transform_with_caching():\n",
    "    filtered = tweets.filter(lambda tweet: len(tweet) > 190)\n",
    "    print(filtered.count())\n",
    "%time transform_with_caching()"
   ]
  }
 ],
 "metadata": {
  "kernelspec": {
   "display_name": "Python 3 (ipykernel)",
   "language": "python",
   "name": "python3"
  },
  "language_info": {
   "codemirror_mode": {
    "name": "ipython",
    "version": 3
   },
   "file_extension": ".py",
   "mimetype": "text/x-python",
   "name": "python",
   "nbconvert_exporter": "python",
   "pygments_lexer": "ipython3",
   "version": "3.7.10"
  }
 },
 "nbformat": 4,
 "nbformat_minor": 5
}
