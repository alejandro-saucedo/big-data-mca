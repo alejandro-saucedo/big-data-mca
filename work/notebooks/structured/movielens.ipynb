{
 "cells": [
  {
   "cell_type": "markdown",
   "id": "f47bdcbe",
   "metadata": {},
   "source": [
    "# Movielens dataset analysis\n",
    "\n",
    "Download data from: https://www.kaggle.com/datasets/grouplens/movielens-20m-dataset?resource=download"
   ]
  },
  {
   "cell_type": "code",
   "execution_count": 1,
   "id": "385304c8",
   "metadata": {},
   "outputs": [],
   "source": [
    "import pyspark.sql.functions as f\n",
    "import pyspark.sql.types as t"
   ]
  },
  {
   "cell_type": "markdown",
   "id": "b611858d",
   "metadata": {},
   "source": [
    "# Load and explore movies dataset"
   ]
  },
  {
   "cell_type": "code",
   "execution_count": 2,
   "id": "26611276",
   "metadata": {},
   "outputs": [
    {
     "name": "stderr",
     "output_type": "stream",
     "text": [
      "[Stage 1:>                                                          (0 + 1) / 1]\r"
     ]
    },
    {
     "name": "stdout",
     "output_type": "stream",
     "text": [
      "+-------+-------------------------------------+-------------------------------------------+\n",
      "|movieId|title                                |genres                                     |\n",
      "+-------+-------------------------------------+-------------------------------------------+\n",
      "|1      |Toy Story (1995)                     |Adventure|Animation|Children|Comedy|Fantasy|\n",
      "|2      |Jumanji (1995)                       |Adventure|Children|Fantasy                 |\n",
      "|3      |Grumpier Old Men (1995)              |Comedy|Romance                             |\n",
      "|4      |Waiting to Exhale (1995)             |Comedy|Drama|Romance                       |\n",
      "|5      |Father of the Bride Part II (1995)   |Comedy                                     |\n",
      "|6      |Heat (1995)                          |Action|Crime|Thriller                      |\n",
      "|7      |Sabrina (1995)                       |Comedy|Romance                             |\n",
      "|8      |Tom and Huck (1995)                  |Adventure|Children                         |\n",
      "|9      |Sudden Death (1995)                  |Action                                     |\n",
      "|10     |GoldenEye (1995)                     |Action|Adventure|Thriller                  |\n",
      "|11     |American President, The (1995)       |Comedy|Drama|Romance                       |\n",
      "|12     |Dracula: Dead and Loving It (1995)   |Comedy|Horror                              |\n",
      "|13     |Balto (1995)                         |Adventure|Animation|Children               |\n",
      "|14     |Nixon (1995)                         |Drama                                      |\n",
      "|15     |Cutthroat Island (1995)              |Action|Adventure|Romance                   |\n",
      "|16     |Casino (1995)                        |Crime|Drama                                |\n",
      "|17     |Sense and Sensibility (1995)         |Drama|Romance                              |\n",
      "|18     |Four Rooms (1995)                    |Comedy                                     |\n",
      "|19     |Ace Ventura: When Nature Calls (1995)|Comedy                                     |\n",
      "|20     |Money Train (1995)                   |Action|Comedy|Crime|Drama|Thriller         |\n",
      "+-------+-------------------------------------+-------------------------------------------+\n",
      "only showing top 20 rows\n",
      "\n"
     ]
    },
    {
     "name": "stderr",
     "output_type": "stream",
     "text": [
      "\r",
      "                                                                                \r"
     ]
    }
   ],
   "source": [
    "movielens_path = '/work/data/movielens'\n",
    "movies_path = f'{movielens_path}/movie.csv'\n",
    "movies = spark.read.format('csv').option('header', True).load(movies_path)\n",
    "movies.show(truncate=False)"
   ]
  },
  {
   "cell_type": "code",
   "execution_count": 3,
   "id": "5b4a9e9e",
   "metadata": {},
   "outputs": [
    {
     "name": "stdout",
     "output_type": "stream",
     "text": [
      "root\n",
      " |-- movieId: string (nullable = true)\n",
      " |-- title: string (nullable = true)\n",
      " |-- genres: string (nullable = true)\n",
      "\n"
     ]
    }
   ],
   "source": [
    "movies.printSchema()"
   ]
  },
  {
   "cell_type": "code",
   "execution_count": 4,
   "id": "fd9b3158",
   "metadata": {},
   "outputs": [
    {
     "name": "stderr",
     "output_type": "stream",
     "text": [
      "                                                                                \r"
     ]
    },
    {
     "data": {
      "text/plain": [
       "27278"
      ]
     },
     "execution_count": 4,
     "metadata": {},
     "output_type": "execute_result"
    }
   ],
   "source": [
    "movies.count()"
   ]
  },
  {
   "cell_type": "code",
   "execution_count": 5,
   "id": "c1c8454b",
   "metadata": {},
   "outputs": [
    {
     "name": "stderr",
     "output_type": "stream",
     "text": [
      "                                                                                \r"
     ]
    },
    {
     "data": {
      "text/plain": [
       "27278"
      ]
     },
     "execution_count": 5,
     "metadata": {},
     "output_type": "execute_result"
    }
   ],
   "source": [
    "movies.dropna().count()"
   ]
  },
  {
   "cell_type": "markdown",
   "id": "6850b6a7",
   "metadata": {},
   "source": [
    "Explore genres"
   ]
  },
  {
   "cell_type": "code",
   "execution_count": 6,
   "id": "18acfd03",
   "metadata": {},
   "outputs": [
    {
     "name": "stdout",
     "output_type": "stream",
     "text": [
      "root\n",
      " |-- split(genres, \\|, -1): array (nullable = true)\n",
      " |    |-- element: string (containsNull = true)\n",
      "\n"
     ]
    }
   ],
   "source": [
    "movies.select(f.split('genres', '\\|')).printSchema()"
   ]
  },
  {
   "cell_type": "code",
   "execution_count": 7,
   "id": "9b9a3458",
   "metadata": {},
   "outputs": [
    {
     "name": "stderr",
     "output_type": "stream",
     "text": [
      "                                                                                \r"
     ]
    },
    {
     "name": "stdout",
     "output_type": "stream",
     "text": [
      "number of different genres:  20\n"
     ]
    },
    {
     "name": "stderr",
     "output_type": "stream",
     "text": [
      "[Stage 18:=====================================================>  (71 + 4) / 75]\r"
     ]
    },
    {
     "name": "stdout",
     "output_type": "stream",
     "text": [
      "+------------------+\n",
      "|               col|\n",
      "+------------------+\n",
      "|             Crime|\n",
      "|           Romance|\n",
      "|          Thriller|\n",
      "|         Adventure|\n",
      "|             Drama|\n",
      "|               War|\n",
      "|       Documentary|\n",
      "|           Fantasy|\n",
      "|           Mystery|\n",
      "|           Musical|\n",
      "|         Animation|\n",
      "|         Film-Noir|\n",
      "|(no genres listed)|\n",
      "|              IMAX|\n",
      "|            Horror|\n",
      "|           Western|\n",
      "|            Comedy|\n",
      "|          Children|\n",
      "|            Action|\n",
      "|            Sci-Fi|\n",
      "+------------------+\n",
      "\n"
     ]
    },
    {
     "name": "stderr",
     "output_type": "stream",
     "text": [
      "\r",
      "                                                                                \r"
     ]
    }
   ],
   "source": [
    "genre_count = movies.select(f.explode(f.split('genres', '\\|'))).distinct().count()\n",
    "print('number of different genres: ', genre_count)\n",
    "\n",
    "movies.select(f.explode(f.split('genres', '\\|'))).distinct().show(genre_count)"
   ]
  },
  {
   "cell_type": "code",
   "execution_count": 8,
   "id": "f35c6c4d",
   "metadata": {},
   "outputs": [
    {
     "name": "stderr",
     "output_type": "stream",
     "text": [
      "\r",
      "[Stage 19:>                                                         (0 + 1) / 1]\r"
     ]
    },
    {
     "name": "stdout",
     "output_type": "stream",
     "text": [
      "+-------+----------------------------------+---------+\n",
      "|movieId|title                             |genre    |\n",
      "+-------+----------------------------------+---------+\n",
      "|1      |Toy Story (1995)                  |Adventure|\n",
      "|1      |Toy Story (1995)                  |Animation|\n",
      "|1      |Toy Story (1995)                  |Children |\n",
      "|1      |Toy Story (1995)                  |Comedy   |\n",
      "|1      |Toy Story (1995)                  |Fantasy  |\n",
      "|2      |Jumanji (1995)                    |Adventure|\n",
      "|2      |Jumanji (1995)                    |Children |\n",
      "|2      |Jumanji (1995)                    |Fantasy  |\n",
      "|3      |Grumpier Old Men (1995)           |Comedy   |\n",
      "|3      |Grumpier Old Men (1995)           |Romance  |\n",
      "|4      |Waiting to Exhale (1995)          |Comedy   |\n",
      "|4      |Waiting to Exhale (1995)          |Drama    |\n",
      "|4      |Waiting to Exhale (1995)          |Romance  |\n",
      "|5      |Father of the Bride Part II (1995)|Comedy   |\n",
      "|6      |Heat (1995)                       |Action   |\n",
      "|6      |Heat (1995)                       |Crime    |\n",
      "|6      |Heat (1995)                       |Thriller |\n",
      "|7      |Sabrina (1995)                    |Comedy   |\n",
      "|7      |Sabrina (1995)                    |Romance  |\n",
      "|8      |Tom and Huck (1995)               |Adventure|\n",
      "+-------+----------------------------------+---------+\n",
      "only showing top 20 rows\n",
      "\n"
     ]
    },
    {
     "name": "stderr",
     "output_type": "stream",
     "text": [
      "\r",
      "                                                                                \r"
     ]
    }
   ],
   "source": [
    "movies_genres = movies.select('movieId', 'title', f.explode(f.split('genres', '\\|')).alias('genre'))\n",
    "movies_genres.cache()\n",
    "movies_genres.show(truncate=False)"
   ]
  },
  {
   "cell_type": "code",
   "execution_count": 9,
   "id": "840f085a",
   "metadata": {},
   "outputs": [
    {
     "name": "stderr",
     "output_type": "stream",
     "text": [
      "                                                                                \r"
     ]
    },
    {
     "name": "stdout",
     "output_type": "stream",
     "text": [
      "+------------------+-----+\n",
      "|             genre|count|\n",
      "+------------------+-----+\n",
      "|             Drama|13344|\n",
      "|            Comedy| 8374|\n",
      "|          Thriller| 4178|\n",
      "|           Romance| 4127|\n",
      "|            Action| 3520|\n",
      "|             Crime| 2939|\n",
      "|            Horror| 2611|\n",
      "|       Documentary| 2471|\n",
      "|         Adventure| 2329|\n",
      "|            Sci-Fi| 1743|\n",
      "|           Mystery| 1514|\n",
      "|           Fantasy| 1412|\n",
      "|               War| 1194|\n",
      "|          Children| 1139|\n",
      "|           Musical| 1036|\n",
      "|         Animation| 1027|\n",
      "|           Western|  676|\n",
      "|         Film-Noir|  330|\n",
      "|(no genres listed)|  246|\n",
      "|              IMAX|  196|\n",
      "+------------------+-----+\n",
      "\n"
     ]
    }
   ],
   "source": [
    "movies_genres.groupBy('genre').agg(f.count('title').alias('count')).sort(f.col('count').desc()).show(20)"
   ]
  },
  {
   "cell_type": "markdown",
   "id": "68ce14d6",
   "metadata": {},
   "source": [
    "Extract year from title"
   ]
  },
  {
   "cell_type": "code",
   "execution_count": 10,
   "id": "1da89ca2",
   "metadata": {},
   "outputs": [
    {
     "name": "stderr",
     "output_type": "stream",
     "text": [
      "\r",
      "[Stage 22:>                                                         (0 + 1) / 1]\r"
     ]
    },
    {
     "name": "stdout",
     "output_type": "stream",
     "text": [
      "+------------------------------+----+\n",
      "|title                         |year|\n",
      "+------------------------------+----+\n",
      "|Toy Story                     |1995|\n",
      "|Jumanji                       |1995|\n",
      "|Grumpier Old Men              |1995|\n",
      "|Waiting to Exhale             |1995|\n",
      "|Father of the Bride Part II   |1995|\n",
      "|Heat                          |1995|\n",
      "|Sabrina                       |1995|\n",
      "|Tom and Huck                  |1995|\n",
      "|Sudden Death                  |1995|\n",
      "|GoldenEye                     |1995|\n",
      "|American President, The       |1995|\n",
      "|Dracula: Dead and Loving It   |1995|\n",
      "|Balto                         |1995|\n",
      "|Nixon                         |1995|\n",
      "|Cutthroat Island              |1995|\n",
      "|Casino                        |1995|\n",
      "|Sense and Sensibility         |1995|\n",
      "|Four Rooms                    |1995|\n",
      "|Ace Ventura: When Nature Calls|1995|\n",
      "|Money Train                   |1995|\n",
      "+------------------------------+----+\n",
      "only showing top 20 rows\n",
      "\n"
     ]
    },
    {
     "name": "stderr",
     "output_type": "stream",
     "text": [
      "\r",
      "                                                                                \r"
     ]
    }
   ],
   "source": [
    "# version 1: simple udf that works as python's strings slicing  \n",
    "\n",
    "def pysubstr(title, start, end):\n",
    "    if start is None:\n",
    "        return title[:end]\n",
    "    if end is None:\n",
    "        return title[start:]\n",
    "    return title[start:end]\n",
    "    \n",
    "\n",
    "substr_udf = f.udf(pysubstr, t.StringType())\n",
    "\n",
    "movies_years = movies.select(\n",
    "    substr_udf( movies['title'], f.lit(0), f.lit(-7)).alias('title'),\n",
    "    substr_udf( movies['title'], f.lit(-5), f.lit(-1)).cast(t.IntegerType()).alias('year')\n",
    ")\n",
    "\n",
    "movies_years.cache()\n",
    "movies_years.show(truncate=False)"
   ]
  },
  {
   "cell_type": "code",
   "execution_count": 11,
   "id": "4e4a04b4",
   "metadata": {},
   "outputs": [
    {
     "name": "stderr",
     "output_type": "stream",
     "text": [
      "\r",
      "[Stage 23:>                                                         (0 + 1) / 1]\r"
     ]
    },
    {
     "name": "stdout",
     "output_type": "stream",
     "text": [
      "+-------------------------------------------------------------------+----+\n",
      "|title                                                              |year|\n",
      "+-------------------------------------------------------------------+----+\n",
      "|Babe Ruth Story, The                                               |null|\n",
      "|Heroes of Telemark, The                                            |null|\n",
      "|Ba                                                                 |null|\n",
      "|Millions Game, The (Das Millione                                   |null|\n",
      "|Truth, The                                                         |null|\n",
      "|Wedding Song, The                                                  |null|\n",
      "|White Hell of Pitz Palu, The (Die weiße Hölle vom Piz Palü)        |null|\n",
      "|Pool, The (Swimming Pool - Der Tod feiert mit)                     |null|\n",
      "|Bicycle, Spoon, Apple (Bicicleta, cullera                          |null|\n",
      "|Possession of David O'Reilly, The                                  |null|\n",
      "|Horrible Way to Die, A                                             |null|\n",
      "|Legend of Suram Fortress, The (Ambavi Suramis tsikhitsa)           |null|\n",
      "|Silence Before Bach, The (Die Stille vor Bach)                     |null|\n",
      "|Poseidon Adventure, The                                            |null|\n",
      "|Nun, The (La monja)                                                |null|\n",
      "|Eleventh Year, The (Odinnadtsatyy)                                 |null|\n",
      "|Fairy, The (La fée)                                                |null|\n",
      "|Lost, Lost, Lost                                                   |null|\n",
      "|Craigslist Killer, The                                             |null|\n",
      "|Rites of May, The (Itim)                                           |null|\n",
      "|Age of the Medici, The (L'età di Cosimo de Medici)                 |null|\n",
      "|Den tatuerade änkan (Tattooed Widow, The)                          |null|\n",
      "|Mona and the Time of Burning Love (Mona ja palavan rakkauden aika) |null|\n",
      "|Woman's Face, A (En kvinnas ansikte)                               |null|\n",
      "|Act of Seeing with One's Own Eyes, The                             |null|\n",
      "|Net 2.0, The                                                       |null|\n",
      "|World According to Dick Cheney, The                                |null|\n",
      "|Suicide Shop, The (Le magasin des suicides)                        |null|\n",
      "|Chameleon, The                                                     |null|\n",
      "|Big Bang Theory, The                                               |null|\n",
      "|Gentle Breeze in the Village, A (Tennen kokekkô)                   |null|\n",
      "|Brazil: In the Shadow of the S                                     |null|\n",
      "|Slaying the                                                        |null|\n",
      "|Tatort: Im Schmerz                                                 |null|\n",
      "|National Theatre Live: Frank                                       |null|\n",
      "|The Court-Martial of Jackie R                                      |null|\n",
      "|In Our                                                             |null|\n",
      "|Stephen Fry In America - Ne                                        |null|\n",
      "|Two: The Story of Roman                                            |null|\n",
      "|Li'l Q                                                             |null|\n",
      "|A Year Along the Abandon                                           |null|\n",
      "|Bod                                                                |null|\n",
      "|Polski                                                             |null|\n",
      "|The Third Reich: The Rise                                          |null|\n",
      "|My                                                                 |null|\n",
      "|Movi                                                               |null|\n",
      "|Michael Laudrup - en Fodbold                                       |null|\n",
      "+-------------------------------------------------------------------+----+\n",
      "\n"
     ]
    },
    {
     "name": "stderr",
     "output_type": "stream",
     "text": [
      "\r",
      "                                                                                \r"
     ]
    }
   ],
   "source": [
    "movies_years.where(f.col('year').isNull()).select('title', 'year').show(50,truncate=False)"
   ]
  },
  {
   "cell_type": "code",
   "execution_count": 71,
   "id": "cc02cdb8",
   "metadata": {},
   "outputs": [
    {
     "name": "stdout",
     "output_type": "stream",
     "text": [
      "+-------+------------------------------+----+\n",
      "|movieId|title                         |year|\n",
      "+-------+------------------------------+----+\n",
      "|1      |Toy Story                     |1995|\n",
      "|2      |Jumanji                       |1995|\n",
      "|3      |Grumpier Old Men              |1995|\n",
      "|4      |Waiting to Exhale             |1995|\n",
      "|5      |Father of the Bride Part II   |1995|\n",
      "|6      |Heat                          |1995|\n",
      "|7      |Sabrina                       |1995|\n",
      "|8      |Tom and Huck                  |1995|\n",
      "|9      |Sudden Death                  |1995|\n",
      "|10     |GoldenEye                     |1995|\n",
      "|11     |American President, The       |1995|\n",
      "|12     |Dracula: Dead and Loving It   |1995|\n",
      "|13     |Balto                         |1995|\n",
      "|14     |Nixon                         |1995|\n",
      "|15     |Cutthroat Island              |1995|\n",
      "|16     |Casino                        |1995|\n",
      "|17     |Sense and Sensibility         |1995|\n",
      "|18     |Four Rooms                    |1995|\n",
      "|19     |Ace Ventura: When Nature Calls|1995|\n",
      "|20     |Money Train                   |1995|\n",
      "+-------+------------------------------+----+\n",
      "only showing top 20 rows\n",
      "\n"
     ]
    }
   ],
   "source": [
    "# v2: udf that looks for the year using regular expression\n",
    "def py_split_title_year(title):\n",
    "    import re\n",
    "    title = title.strip()\n",
    "    if(re.search(r'\\(\\d\\d\\d\\d\\)$', title)):\n",
    "        return title[:-7], int(title[-5:-1])\n",
    "    return title, None\n",
    "\n",
    "\n",
    "split_udf = f.udf(py_split_title_year, t.ArrayType(t.StringType(), True))\n",
    "\n",
    "movies_years = movies.select('movieId', \n",
    "    split_udf( movies['title']).alias('split')\n",
    ")\n",
    "movies_years = movies_years. \\\n",
    "    selectExpr('movieId', 'split[0] as title', 'split[1] as year'). \\\n",
    "    select('movieId', 'title', f.col('year').cast(t.IntegerType()) \n",
    ")\n",
    "movies_years.show(truncate=False)"
   ]
  },
  {
   "cell_type": "code",
   "execution_count": 74,
   "id": "438764a0",
   "metadata": {},
   "outputs": [
    {
     "name": "stderr",
     "output_type": "stream",
     "text": [
      "[Stage 136:========================================>            (152 + 2) / 200]\r"
     ]
    },
    {
     "name": "stdout",
     "output_type": "stream",
     "text": [
      "+--------------------+-----+\n",
      "|               title|count|\n",
      "+--------------------+-----+\n",
      "|     Misérables, Les|    9|\n",
      "|              Hamlet|    8|\n",
      "|Three Musketeers,...|    7|\n",
      "|   Wuthering Heights|    6|\n",
      "|  Christmas Carol, A|    6|\n",
      "| Alice in Wonderland|    6|\n",
      "|          Cinderella|    5|\n",
      "|           Jane Eyre|    5|\n",
      "|            Blackout|    4|\n",
      "|            Paradise|    4|\n",
      "|        Oliver Twist|    4|\n",
      "|Dr. Jekyll and Mr...|    4|\n",
      "|                Eden|    4|\n",
      "|               Angel|    4|\n",
      "|      Boy Meets Girl|    4|\n",
      "|              Carrie|    4|\n",
      "|     Treasure Island|    4|\n",
      "|20,000 Leagues Un...|    4|\n",
      "|Hound of the Bask...|    4|\n",
      "|King Solomon's Mines|    4|\n",
      "+--------------------+-----+\n",
      "only showing top 20 rows\n",
      "\n"
     ]
    },
    {
     "name": "stderr",
     "output_type": "stream",
     "text": [
      "\r",
      "[Stage 136:=================================================>   (188 + 2) / 200]\r",
      "\r",
      "                                                                                \r"
     ]
    }
   ],
   "source": [
    "movies_years.groupBy('title').count().where(f.expr('count > 1')).show()"
   ]
  },
  {
   "cell_type": "markdown",
   "id": "b5f28f43",
   "metadata": {},
   "source": [
    "# Loading Ratings"
   ]
  },
  {
   "cell_type": "code",
   "execution_count": 13,
   "id": "875b6717",
   "metadata": {},
   "outputs": [
    {
     "name": "stdout",
     "output_type": "stream",
     "text": [
      "+------+-------+------+-------------------+\n",
      "|userId|movieId|rating|timestamp          |\n",
      "+------+-------+------+-------------------+\n",
      "|1     |2      |3.5   |2005-04-02 23:53:47|\n",
      "|1     |29     |3.5   |2005-04-02 23:31:16|\n",
      "|1     |32     |3.5   |2005-04-02 23:33:39|\n",
      "|1     |47     |3.5   |2005-04-02 23:32:07|\n",
      "|1     |50     |3.5   |2005-04-02 23:29:40|\n",
      "|1     |112    |3.5   |2004-09-10 03:09:00|\n",
      "|1     |151    |4     |2004-09-10 03:08:54|\n",
      "|1     |223    |4     |2005-04-02 23:46:13|\n",
      "|1     |253    |4     |2005-04-02 23:35:40|\n",
      "|1     |260    |4     |2005-04-02 23:33:46|\n",
      "|1     |293    |4     |2005-04-02 23:31:43|\n",
      "|1     |296    |4     |2005-04-02 23:32:47|\n",
      "|1     |318    |4     |2005-04-02 23:33:18|\n",
      "|1     |337    |3.5   |2004-09-10 03:08:29|\n",
      "|1     |367    |3.5   |2005-04-02 23:53:00|\n",
      "|1     |541    |4     |2005-04-02 23:30:03|\n",
      "|1     |589    |3.5   |2005-04-02 23:45:57|\n",
      "|1     |593    |3.5   |2005-04-02 23:31:01|\n",
      "|1     |653    |3     |2004-09-10 03:08:11|\n",
      "|1     |919    |3.5   |2004-09-10 03:07:01|\n",
      "+------+-------+------+-------------------+\n",
      "only showing top 20 rows\n",
      "\n"
     ]
    }
   ],
   "source": [
    "\n",
    "ratings_path = f'{movielens_path}/rating.csv'\n",
    "ratings = spark.read.format('csv').option('header', True).load(ratings_path)\n",
    "ratings.show(truncate=False)"
   ]
  },
  {
   "cell_type": "code",
   "execution_count": 14,
   "id": "1757e56b",
   "metadata": {},
   "outputs": [
    {
     "name": "stderr",
     "output_type": "stream",
     "text": [
      "                                                                                \r"
     ]
    },
    {
     "data": {
      "text/plain": [
       "20000263"
      ]
     },
     "execution_count": 14,
     "metadata": {},
     "output_type": "execute_result"
    }
   ],
   "source": [
    "ratings.count()"
   ]
  },
  {
   "cell_type": "code",
   "execution_count": 15,
   "id": "2cdf90a6",
   "metadata": {},
   "outputs": [
    {
     "name": "stdout",
     "output_type": "stream",
     "text": [
      "root\n",
      " |-- userId: string (nullable = true)\n",
      " |-- movieId: string (nullable = true)\n",
      " |-- rating: string (nullable = true)\n",
      " |-- timestamp: string (nullable = true)\n",
      "\n"
     ]
    }
   ],
   "source": [
    "ratings.printSchema()"
   ]
  },
  {
   "cell_type": "code",
   "execution_count": 16,
   "id": "5c11d6a2",
   "metadata": {},
   "outputs": [
    {
     "name": "stderr",
     "output_type": "stream",
     "text": [
      "                                                                                \r"
     ]
    },
    {
     "data": {
      "text/plain": [
       "0"
      ]
     },
     "execution_count": 16,
     "metadata": {},
     "output_type": "execute_result"
    }
   ],
   "source": [
    "ratings.where(f.col('movieId').isNull()).count()"
   ]
  },
  {
   "cell_type": "code",
   "execution_count": 17,
   "id": "b7a06be3",
   "metadata": {},
   "outputs": [
    {
     "name": "stderr",
     "output_type": "stream",
     "text": [
      "                                                                                \r"
     ]
    },
    {
     "data": {
      "text/plain": [
       "0"
      ]
     },
     "execution_count": 17,
     "metadata": {},
     "output_type": "execute_result"
    }
   ],
   "source": [
    "ratings.where(f.col('rating').isNull()).count()"
   ]
  },
  {
   "cell_type": "code",
   "execution_count": 18,
   "id": "48b7abed",
   "metadata": {},
   "outputs": [],
   "source": [
    "ratings = ratings.select('userId', 'movieId', f.col('rating').cast(t.FloatType()))\n"
   ]
  },
  {
   "cell_type": "markdown",
   "id": "eb950135",
   "metadata": {},
   "source": [
    "Join ratings with movies"
   ]
  },
  {
   "cell_type": "code",
   "execution_count": 19,
   "id": "bb0484db",
   "metadata": {},
   "outputs": [
    {
     "name": "stdout",
     "output_type": "stream",
     "text": [
      "+-------+--------------------+------+\n",
      "|movieId|               title|rating|\n",
      "+-------+--------------------+------+\n",
      "|      2|      Jumanji (1995)|   3.5|\n",
      "|     29|City of Lost Chil...|   3.5|\n",
      "|     32|Twelve Monkeys (a...|   3.5|\n",
      "|     47|Seven (a.k.a. Se7...|   3.5|\n",
      "|     50|Usual Suspects, T...|   3.5|\n",
      "|    112|Rumble in the Bro...|   3.5|\n",
      "|    151|      Rob Roy (1995)|   4.0|\n",
      "|    223|       Clerks (1994)|   4.0|\n",
      "|    253|Interview with th...|   4.0|\n",
      "|    260|Star Wars: Episod...|   4.0|\n",
      "|    293|Léon: The Profess...|   4.0|\n",
      "|    296| Pulp Fiction (1994)|   4.0|\n",
      "|    318|Shawshank Redempt...|   4.0|\n",
      "|    337|What's Eating Gil...|   3.5|\n",
      "|    367|    Mask, The (1994)|   3.5|\n",
      "|    541| Blade Runner (1982)|   4.0|\n",
      "|    589|Terminator 2: Jud...|   3.5|\n",
      "|    593|Silence of the La...|   3.5|\n",
      "|    653|  Dragonheart (1996)|   3.0|\n",
      "|    919|Wizard of Oz, The...|   3.5|\n",
      "+-------+--------------------+------+\n",
      "only showing top 20 rows\n",
      "\n"
     ]
    }
   ],
   "source": [
    "sub_ratings = ratings.drop('userId').withColumnRenamed('movieId', '_movieId')\n",
    "movies_ratings = movies.drop('genres'). \\\n",
    "    join(\n",
    "        sub_ratings, \n",
    "        movies['movieId'] == sub_ratings['_movieId']). \\\n",
    "drop('_movieId')\n",
    "movies_ratings.show()"
   ]
  },
  {
   "cell_type": "markdown",
   "id": "5aec5ac1",
   "metadata": {},
   "source": [
    "Calculate average rating by movie and number of ratings"
   ]
  },
  {
   "cell_type": "code",
   "execution_count": 64,
   "id": "57647b7c",
   "metadata": {},
   "outputs": [
    {
     "name": "stdout",
     "output_type": "stream",
     "text": [
      "+-------+------------------+------------+\n",
      "|movieId|        avg_rating|rating_count|\n",
      "+-------+------------------+------------+\n",
      "|    296| 4.174231169217055|       67310|\n",
      "|   1090| 3.919977226720648|       15808|\n",
      "|   3959| 3.699372603694667|        2869|\n",
      "|   2294| 3.303207714257601|       10163|\n",
      "|   6731|3.5571184995737424|        1173|\n",
      "|  48738| 3.895868364160461|        4163|\n",
      "|   3210|3.6711219879518073|        7968|\n",
      "|  88140|3.5536100302637266|        2313|\n",
      "|    467|3.3832658569500675|         741|\n",
      "|   2088| 2.562729584628426|        3539|\n",
      "|   2069| 3.806294326241135|        1128|\n",
      "|  50802|  2.85519801980198|         404|\n",
      "|    829|2.6765513454146075|        1821|\n",
      "|   2136| 2.849462365591398|        2883|\n",
      "|  89864|3.8558174523570714|        1994|\n",
      "|   2904|3.5884353741496597|         147|\n",
      "|   4821|3.1852010265183917|        1169|\n",
      "|  62912|2.3253676470588234|         272|\n",
      "|  55498|2.9166666666666665|          78|\n",
      "|   2162|2.4223394055608822|        2086|\n",
      "+-------+------------------+------------+\n",
      "only showing top 20 rows\n",
      "\n"
     ]
    }
   ],
   "source": [
    "movies_ratings_agg = movies_ratings.groupBy('movieId').agg(\n",
    "    f.avg(f.col('rating')).alias('avg_rating'), \n",
    "    f.count(f.col('rating')).alias('rating_count'))\n",
    "movies_ratings_agg.show()"
   ]
  },
  {
   "cell_type": "code",
   "execution_count": 28,
   "id": "84dd9a81",
   "metadata": {},
   "outputs": [
    {
     "name": "stderr",
     "output_type": "stream",
     "text": [
      "24/05/12 16:49:03 WARN CacheManager: Asked to cache already cached data.\n"
     ]
    },
    {
     "data": {
      "text/plain": [
       "DataFrame[movieId: string, avg_rating: double, rating_count: bigint]"
      ]
     },
     "execution_count": 28,
     "metadata": {},
     "output_type": "execute_result"
    }
   ],
   "source": [
    "movies_ratings_agg.cache()"
   ]
  },
  {
   "cell_type": "code",
   "execution_count": 29,
   "id": "e895b31f",
   "metadata": {},
   "outputs": [
    {
     "name": "stderr",
     "output_type": "stream",
     "text": [
      "                                                                                \r"
     ]
    },
    {
     "data": {
      "text/plain": [
       "26744"
      ]
     },
     "execution_count": 29,
     "metadata": {},
     "output_type": "execute_result"
    }
   ],
   "source": [
    "movies_ratings_agg.count()"
   ]
  },
  {
   "cell_type": "code",
   "execution_count": 65,
   "id": "2dfedc4e",
   "metadata": {},
   "outputs": [
    {
     "name": "stderr",
     "output_type": "stream",
     "text": [
      "[Stage 124:===================================================> (194 + 2) / 200]\r"
     ]
    },
    {
     "name": "stdout",
     "output_type": "stream",
     "text": [
      "+-----------------+-------------------------------------+--------------------+-----------------+-----------------+\n",
      "|avg(rating_count)|percentile_approx(rating_count, 0.25)|stddev(rating_count)|max(rating_count)|min(rating_count)|\n",
      "+-----------------+-------------------------------------+--------------------+-----------------+-----------------+\n",
      "|747.8411232425965|3                                    |3085.8182679035876  |67310            |1                |\n",
      "+-----------------+-------------------------------------+--------------------+-----------------+-----------------+\n",
      "\n"
     ]
    },
    {
     "name": "stderr",
     "output_type": "stream",
     "text": [
      "\r",
      "                                                                                \r"
     ]
    }
   ],
   "source": [
    "movies_ratings_agg.agg(\n",
    "        f.expr('avg(rating_count)'), \n",
    "        f.expr('percentile_approx(rating_count, 0.25)'), \n",
    "        f.expr('stddev(rating_count)'), \n",
    "        f.expr('max(rating_count)'), \n",
    "        f.expr('min(rating_count)')\n",
    "    \n",
    "    ).show(truncate=False)"
   ]
  },
  {
   "cell_type": "markdown",
   "id": "e8892bd8",
   "metadata": {},
   "source": [
    "Only consider movies with more than 3 ratings"
   ]
  },
  {
   "cell_type": "code",
   "execution_count": 66,
   "id": "44757a9f",
   "metadata": {},
   "outputs": [
    {
     "name": "stderr",
     "output_type": "stream",
     "text": [
      "                                                                                \r"
     ]
    },
    {
     "data": {
      "text/plain": [
       "19374"
      ]
     },
     "execution_count": 66,
     "metadata": {},
     "output_type": "execute_result"
    }
   ],
   "source": [
    "movies_ratings_agg = movies_ratings_agg.where(f.expr('rating_count > 3'))\n",
    "movies_ratings_agg.count()"
   ]
  },
  {
   "cell_type": "markdown",
   "id": "fc9c1fc8",
   "metadata": {},
   "source": [
    "Show 20 top rated movies"
   ]
  },
  {
   "cell_type": "code",
   "execution_count": 67,
   "id": "452e61a1",
   "metadata": {},
   "outputs": [
    {
     "name": "stderr",
     "output_type": "stream",
     "text": [
      "[Stage 131:>                                                        (0 + 1) / 1]\r"
     ]
    },
    {
     "name": "stdout",
     "output_type": "stream",
     "text": [
      "+-----------------------------------------+----------+------------+\n",
      "|title                                    |avg_rating|rating_count|\n",
      "+-----------------------------------------+----------+------------+\n",
      "|Balto (1995)                             |4.5       |11          |\n",
      "|Wings of Courage (1995)                  |4.5       |11          |\n",
      "|Nixon (1995)                             |4.5       |11          |\n",
      "|Jumanji (1995)                           |4.5       |11          |\n",
      "|Cutthroat Island (1995)                  |4.5       |11          |\n",
      "|Waiting to Exhale (1995)                 |4.5       |11          |\n",
      "|Casino (1995)                            |4.5       |11          |\n",
      "|Grumpier Old Men (1995)                  |4.5       |11          |\n",
      "|Sense and Sensibility (1995)             |4.5       |11          |\n",
      "|Tom and Huck (1995)                      |4.5       |11          |\n",
      "|Four Rooms (1995)                        |4.5       |11          |\n",
      "|GoldenEye (1995)                         |4.5       |11          |\n",
      "|Ace Ventura: When Nature Calls (1995)    |4.5       |11          |\n",
      "|Dracula: Dead and Loving It (1995)       |4.5       |11          |\n",
      "|Money Train (1995)                       |4.5       |11          |\n",
      "|Powder (1995)                            |4.5       |11          |\n",
      "|Twelve Monkeys (a.k.a. 12 Monkeys) (1995)|4.5       |11          |\n",
      "|Leaving Las Vegas (1995)                 |4.5       |11          |\n",
      "|Toy Story (1995)                         |4.5       |11          |\n",
      "|Othello (1995)                           |4.5       |11          |\n",
      "+-----------------------------------------+----------+------------+\n",
      "only showing top 20 rows\n",
      "\n"
     ]
    },
    {
     "name": "stderr",
     "output_type": "stream",
     "text": [
      "\r",
      "                                                                                \r"
     ]
    }
   ],
   "source": [
    "movies.join(movies_ratings_agg). \\\n",
    "    select('title', 'avg_rating', 'rating_count'). \\\n",
    "    sort(f.col('avg_rating').desc(), f.col('rating_count').desc()). \\\n",
    "    show(20, truncate=False)"
   ]
  },
  {
   "cell_type": "code",
   "execution_count": null,
   "id": "851927e4",
   "metadata": {},
   "outputs": [],
   "source": []
  }
 ],
 "metadata": {
  "kernelspec": {
   "display_name": "Python 3 (ipykernel)",
   "language": "python",
   "name": "python3"
  },
  "language_info": {
   "codemirror_mode": {
    "name": "ipython",
    "version": 3
   },
   "file_extension": ".py",
   "mimetype": "text/x-python",
   "name": "python",
   "nbconvert_exporter": "python",
   "pygments_lexer": "ipython3",
   "version": "3.7.10"
  }
 },
 "nbformat": 4,
 "nbformat_minor": 5
}
