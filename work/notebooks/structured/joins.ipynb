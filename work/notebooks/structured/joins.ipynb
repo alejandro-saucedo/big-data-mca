{
 "cells": [
  {
   "cell_type": "markdown",
   "id": "c8944c61",
   "metadata": {},
   "source": [
    "# Joins"
   ]
  },
  {
   "cell_type": "markdown",
   "id": "83a0315e",
   "metadata": {},
   "source": [
    "Creating different DataFrames to join"
   ]
  },
  {
   "cell_type": "code",
   "execution_count": 53,
   "id": "a34dcda0",
   "metadata": {},
   "outputs": [],
   "source": [
    "person = spark.createDataFrame([\n",
    "    (0, \"Bill Chambers\", 0, [100]),\n",
    "    (1, \"Matei Zaharia\", 1, [500, 250, 100]),\n",
    "    (2, \"Michael Armbrust\", 1, [250, 100]),\n",
    "    (3, \"Waklaw Zimpel\", 3, [100, 50])])\\\n",
    "    .toDF(\"id\", \"name\", \"graduate_program\", \"spark_status\")"
   ]
  },
  {
   "cell_type": "code",
   "execution_count": 54,
   "id": "3993ceb3",
   "metadata": {},
   "outputs": [],
   "source": [
    "graduate_program = spark.createDataFrame([\n",
    "    (0, \"Masters\", \"School of Information\", \"UC Berkeley\"),\n",
    "    (2, \"Masters\", \"EECS\", \"UC Berkeley\"),\n",
    "    (1, \"Ph.D.\", \"EECS\", \"UC Berkeley\")])\\\n",
    "    .toDF(\"id\", \"degree\", \"department\", \"school\")"
   ]
  },
  {
   "cell_type": "code",
   "execution_count": 55,
   "id": "5cd897ff",
   "metadata": {},
   "outputs": [],
   "source": [
    "spark_status = spark.createDataFrame([\n",
    "    (500, \"Vice President\"),\n",
    "    (250, \"PMC Member\"),\n",
    "    (100, \"Contributor\")])\\\n",
    "    .toDF(\"status_id\", \"status\")"
   ]
  },
  {
   "cell_type": "markdown",
   "id": "ae7018d2",
   "metadata": {},
   "source": [
    "## Inner joins\n",
    "Keep rows with keys that exist in the left and right datasets"
   ]
  },
  {
   "cell_type": "code",
   "execution_count": 56,
   "id": "0cc7e07e",
   "metadata": {},
   "outputs": [
    {
     "name": "stdout",
     "output_type": "stream",
     "text": [
      "+---+----------------+----------------+---------------+---+-------+--------------------+-----------+\n",
      "| id|            name|graduate_program|   spark_status| id| degree|          department|     school|\n",
      "+---+----------------+----------------+---------------+---+-------+--------------------+-----------+\n",
      "|  0|   Bill Chambers|               0|          [100]|  0|Masters|School of Informa...|UC Berkeley|\n",
      "|  1|   Matei Zaharia|               1|[500, 250, 100]|  1|  Ph.D.|                EECS|UC Berkeley|\n",
      "|  2|Michael Armbrust|               1|     [250, 100]|  1|  Ph.D.|                EECS|UC Berkeley|\n",
      "+---+----------------+----------------+---------------+---+-------+--------------------+-----------+\n",
      "\n"
     ]
    }
   ],
   "source": [
    "join_expression = person[\"graduate_program\"] == graduate_program['id']\n",
    "person.join(graduate_program, join_expression).show()\n",
    "# or person.join(graduate_program, join_expression, 'inner')"
   ]
  },
  {
   "cell_type": "markdown",
   "id": "4cea92a3",
   "metadata": {},
   "source": [
    "## Outer joins \n",
    "Keep rows with keys in either the left or right datasets"
   ]
  },
  {
   "cell_type": "code",
   "execution_count": 57,
   "id": "16d31b0f",
   "metadata": {},
   "outputs": [
    {
     "name": "stderr",
     "output_type": "stream",
     "text": [
      "\r",
      "[Stage 282:======================================>               (71 + 2) / 100]\r",
      "\r",
      "                                                                                \r"
     ]
    },
    {
     "name": "stdout",
     "output_type": "stream",
     "text": [
      "+----+----------------+----------------+---------------+----+-------+--------------------+-----------+\n",
      "|  id|            name|graduate_program|   spark_status|  id| degree|          department|     school|\n",
      "+----+----------------+----------------+---------------+----+-------+--------------------+-----------+\n",
      "|   0|   Bill Chambers|               0|          [100]|   0|Masters|School of Informa...|UC Berkeley|\n",
      "|   1|   Matei Zaharia|               1|[500, 250, 100]|   1|  Ph.D.|                EECS|UC Berkeley|\n",
      "|   2|Michael Armbrust|               1|     [250, 100]|   1|  Ph.D.|                EECS|UC Berkeley|\n",
      "|   3|   Waklaw Zimpel|               3|      [100, 50]|null|   null|                null|       null|\n",
      "|null|            null|            null|           null|   2|Masters|                EECS|UC Berkeley|\n",
      "+----+----------------+----------------+---------------+----+-------+--------------------+-----------+\n",
      "\n"
     ]
    }
   ],
   "source": [
    "join_expression = person[\"graduate_program\"] == graduate_program['id']\n",
    "person.join(graduate_program, join_expression, 'outer').show()"
   ]
  },
  {
   "cell_type": "markdown",
   "id": "c9209487",
   "metadata": {},
   "source": [
    "## Left/right outer joins \n",
    "Keep rows with keys in the left/right dataset"
   ]
  },
  {
   "cell_type": "code",
   "execution_count": 58,
   "id": "f795a26c",
   "metadata": {},
   "outputs": [
    {
     "name": "stdout",
     "output_type": "stream",
     "text": [
      "+---+----------------+----------------+---------------+----+-------+--------------------+-----------+\n",
      "| id|            name|graduate_program|   spark_status|  id| degree|          department|     school|\n",
      "+---+----------------+----------------+---------------+----+-------+--------------------+-----------+\n",
      "|  0|   Bill Chambers|               0|          [100]|   0|Masters|School of Informa...|UC Berkeley|\n",
      "|  1|   Matei Zaharia|               1|[500, 250, 100]|   1|  Ph.D.|                EECS|UC Berkeley|\n",
      "|  2|Michael Armbrust|               1|     [250, 100]|   1|  Ph.D.|                EECS|UC Berkeley|\n",
      "|  3|   Waklaw Zimpel|               3|      [100, 50]|null|   null|                null|       null|\n",
      "+---+----------------+----------------+---------------+----+-------+--------------------+-----------+\n",
      "\n"
     ]
    }
   ],
   "source": [
    "# Left\n",
    "join_expression = person[\"graduate_program\"] == graduate_program['id']\n",
    "person.join(graduate_program, join_expression, 'left').show()"
   ]
  },
  {
   "cell_type": "code",
   "execution_count": 59,
   "id": "e020289a",
   "metadata": {},
   "outputs": [
    {
     "name": "stderr",
     "output_type": "stream",
     "text": [
      "\r",
      "[Stage 312:==============================================>       (86 + 2) / 100]\r",
      "\r",
      "                                                                                \r"
     ]
    },
    {
     "name": "stdout",
     "output_type": "stream",
     "text": [
      "+----+----------------+----------------+---------------+---+-------+--------------------+-----------+\n",
      "|  id|            name|graduate_program|   spark_status| id| degree|          department|     school|\n",
      "+----+----------------+----------------+---------------+---+-------+--------------------+-----------+\n",
      "|   0|   Bill Chambers|               0|          [100]|  0|Masters|School of Informa...|UC Berkeley|\n",
      "|   1|   Matei Zaharia|               1|[500, 250, 100]|  1|  Ph.D.|                EECS|UC Berkeley|\n",
      "|   2|Michael Armbrust|               1|     [250, 100]|  1|  Ph.D.|                EECS|UC Berkeley|\n",
      "|null|            null|            null|           null|  2|Masters|                EECS|UC Berkeley|\n",
      "+----+----------------+----------------+---------------+---+-------+--------------------+-----------+\n",
      "\n"
     ]
    }
   ],
   "source": [
    "# Right\n",
    "join_expression = person[\"graduate_program\"] == graduate_program['id']\n",
    "person.join(graduate_program, join_expression, 'right').show()"
   ]
  },
  {
   "cell_type": "markdown",
   "id": "fb9f3eff",
   "metadata": {},
   "source": [
    "## Left semi joins \n",
    "Keep the rows in the left, and only the left, dataset where the key appears in the right dataset (a type of filter)"
   ]
  },
  {
   "cell_type": "code",
   "execution_count": 60,
   "id": "ffc0ad31",
   "metadata": {},
   "outputs": [
    {
     "name": "stdout",
     "output_type": "stream",
     "text": [
      "+---+----------------+----------------+---------------+\n",
      "| id|            name|graduate_program|   spark_status|\n",
      "+---+----------------+----------------+---------------+\n",
      "|  0|   Bill Chambers|               0|          [100]|\n",
      "|  1|   Matei Zaharia|               1|[500, 250, 100]|\n",
      "|  2|Michael Armbrust|               1|     [250, 100]|\n",
      "+---+----------------+----------------+---------------+\n",
      "\n"
     ]
    }
   ],
   "source": [
    "join_expression = person[\"graduate_program\"] == graduate_program['id']\n",
    "person.join(graduate_program, join_expression, 'left_semi').show()"
   ]
  },
  {
   "cell_type": "markdown",
   "id": "ba2f7210",
   "metadata": {},
   "source": [
    "## Left anti joins \n",
    "Keep the rows in the left, and only the left, dataset where they do not appear in the right dataset"
   ]
  },
  {
   "cell_type": "code",
   "execution_count": 61,
   "id": "7cff90b3",
   "metadata": {},
   "outputs": [
    {
     "name": "stdout",
     "output_type": "stream",
     "text": [
      "+---+-------------+----------------+------------+\n",
      "| id|         name|graduate_program|spark_status|\n",
      "+---+-------------+----------------+------------+\n",
      "|  3|Waklaw Zimpel|               3|   [100, 50]|\n",
      "+---+-------------+----------------+------------+\n",
      "\n"
     ]
    }
   ],
   "source": [
    "join_expression = person[\"graduate_program\"] == graduate_program['id']\n",
    "person.join(graduate_program, join_expression, 'left_anti').show()"
   ]
  },
  {
   "cell_type": "markdown",
   "id": "6093b61a",
   "metadata": {},
   "source": [
    "## Cross (or Cartesian) joins \n",
    "Match every row in the left dataset with every row in the right dataset"
   ]
  },
  {
   "cell_type": "code",
   "execution_count": 62,
   "id": "940e966d",
   "metadata": {},
   "outputs": [
    {
     "name": "stdout",
     "output_type": "stream",
     "text": [
      "Resulting number of rows: 12\n",
      "+---+----------------+----------------+---------------+---+-------+--------------------+-----------+\n",
      "| id|            name|graduate_program|   spark_status| id| degree|          department|     school|\n",
      "+---+----------------+----------------+---------------+---+-------+--------------------+-----------+\n",
      "|  0|   Bill Chambers|               0|          [100]|  0|Masters|School of Informa...|UC Berkeley|\n",
      "|  1|   Matei Zaharia|               1|[500, 250, 100]|  0|Masters|School of Informa...|UC Berkeley|\n",
      "|  0|   Bill Chambers|               0|          [100]|  2|Masters|                EECS|UC Berkeley|\n",
      "|  0|   Bill Chambers|               0|          [100]|  1|  Ph.D.|                EECS|UC Berkeley|\n",
      "|  1|   Matei Zaharia|               1|[500, 250, 100]|  2|Masters|                EECS|UC Berkeley|\n",
      "|  1|   Matei Zaharia|               1|[500, 250, 100]|  1|  Ph.D.|                EECS|UC Berkeley|\n",
      "|  2|Michael Armbrust|               1|     [250, 100]|  0|Masters|School of Informa...|UC Berkeley|\n",
      "|  3|   Waklaw Zimpel|               3|      [100, 50]|  0|Masters|School of Informa...|UC Berkeley|\n",
      "|  2|Michael Armbrust|               1|     [250, 100]|  2|Masters|                EECS|UC Berkeley|\n",
      "|  2|Michael Armbrust|               1|     [250, 100]|  1|  Ph.D.|                EECS|UC Berkeley|\n",
      "|  3|   Waklaw Zimpel|               3|      [100, 50]|  2|Masters|                EECS|UC Berkeley|\n",
      "|  3|   Waklaw Zimpel|               3|      [100, 50]|  1|  Ph.D.|                EECS|UC Berkeley|\n",
      "+---+----------------+----------------+---------------+---+-------+--------------------+-----------+\n",
      "\n"
     ]
    }
   ],
   "source": [
    "cross_join = person.join(graduate_program)\n",
    "print('Resulting number of rows:', cross_join.count())\n",
    "cross_join.show()\n"
   ]
  },
  {
   "cell_type": "markdown",
   "id": "3a19292d",
   "metadata": {},
   "source": [
    "## Joins on complex types"
   ]
  },
  {
   "cell_type": "code",
   "execution_count": 63,
   "id": "aa621a3e",
   "metadata": {},
   "outputs": [
    {
     "name": "stdout",
     "output_type": "stream",
     "text": [
      "+---+----------------+----------------+---------------+---------+--------------+\n",
      "| id|            name|graduate_program|   spark_status|status_id|        status|\n",
      "+---+----------------+----------------+---------------+---------+--------------+\n",
      "|  1|   Matei Zaharia|               1|[500, 250, 100]|      500|Vice President|\n",
      "|  0|   Bill Chambers|               0|          [100]|      100|   Contributor|\n",
      "|  1|   Matei Zaharia|               1|[500, 250, 100]|      250|    PMC Member|\n",
      "|  1|   Matei Zaharia|               1|[500, 250, 100]|      100|   Contributor|\n",
      "|  2|Michael Armbrust|               1|     [250, 100]|      250|    PMC Member|\n",
      "|  2|Michael Armbrust|               1|     [250, 100]|      100|   Contributor|\n",
      "|  3|   Waklaw Zimpel|               3|      [100, 50]|      100|   Contributor|\n",
      "+---+----------------+----------------+---------------+---------+--------------+\n",
      "\n"
     ]
    }
   ],
   "source": [
    "from pyspark.sql.functions import expr\n",
    "person.join(spark_status, expr('array_contains(spark_status, status_id)')).show()"
   ]
  }
 ],
 "metadata": {
  "kernelspec": {
   "display_name": "Python 3 (ipykernel)",
   "language": "python",
   "name": "python3"
  },
  "language_info": {
   "codemirror_mode": {
    "name": "ipython",
    "version": 3
   },
   "file_extension": ".py",
   "mimetype": "text/x-python",
   "name": "python",
   "nbconvert_exporter": "python",
   "pygments_lexer": "ipython3",
   "version": "3.7.10"
  }
 },
 "nbformat": 4,
 "nbformat_minor": 5
}
