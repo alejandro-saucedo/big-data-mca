{
 "cells": [
  {
   "cell_type": "markdown",
   "id": "41bcfc10",
   "metadata": {},
   "source": [
    "Create a schema\n",
    "\n",
    "In this case we will reuse the one inferred by Spark"
   ]
  },
  {
   "cell_type": "code",
   "execution_count": 1,
   "id": "98317ead",
   "metadata": {},
   "outputs": [
    {
     "name": "stderr",
     "output_type": "stream",
     "text": [
      "                                                                                \r"
     ]
    }
   ],
   "source": [
    "df = spark.read.json(\"/work/data/covid-tweets\")\n",
    "schema = df.schema"
   ]
  },
  {
   "cell_type": "code",
   "execution_count": 2,
   "id": "75dcf80a",
   "metadata": {},
   "outputs": [
    {
     "name": "stdout",
     "output_type": "stream",
     "text": [
      "root\n",
      " |-- Arrival_Time: long (nullable = true)\n",
      " |-- Creation_Time: long (nullable = true)\n",
      " |-- Device: string (nullable = true)\n",
      " |-- Index: long (nullable = true)\n",
      " |-- Model: string (nullable = true)\n",
      " |-- User: string (nullable = true)\n",
      " |-- gt: string (nullable = true)\n",
      " |-- x: double (nullable = true)\n",
      " |-- y: double (nullable = true)\n",
      " |-- z: double (nullable = true)\n",
      "\n"
     ]
    }
   ],
   "source": [
    "df.printSchema()"
   ]
  },
  {
   "cell_type": "markdown",
   "id": "f8ad3414",
   "metadata": {},
   "source": [
    "Create the streaming entry point using the previously loaded schema"
   ]
  },
  {
   "cell_type": "code",
   "execution_count": 3,
   "id": "b6d8551b",
   "metadata": {},
   "outputs": [],
   "source": [
    "streaming = spark.readStream\\\n",
    "    .schema(schema)\\\n",
    "    .option(\"maxFilesPerTrigger\", 1)\\\n",
    "    .json(\"/work/data/covid-tweets\")"
   ]
  },
  {
   "cell_type": "code",
   "execution_count": 4,
   "id": "c71b097b",
   "metadata": {},
   "outputs": [],
   "source": [
    "activityCounts = streaming.groupBy(\"gt\").count()"
   ]
  },
  {
   "cell_type": "code",
   "execution_count": 5,
   "id": "7f67c142",
   "metadata": {},
   "outputs": [
    {
     "name": "stderr",
     "output_type": "stream",
     "text": [
      "22/11/21 20:59:00 WARN StreamingQueryManager: Temporary checkpoint location created which is deleted normally when the query didn't fail: /tmp/temporary-06f2acc1-cbb5-4721-8782-6159ca2e4191. If it's required to delete it under any circumstances, please set spark.sql.streaming.forceDeleteTempCheckpointLocation to true. Important to know deleting temp checkpoint folder is best effort.\n"
     ]
    }
   ],
   "source": [
    "activityQuery = activityCounts.writeStream.queryName(\"activity_counts\")\\\n",
    "  .format(\"memory\").outputMode(\"update\")\\\n",
    "  .start()"
   ]
  },
  {
   "cell_type": "code",
   "execution_count": 6,
   "id": "2f31c64c",
   "metadata": {},
   "outputs": [
    {
     "data": {
      "text/plain": [
       "[<pyspark.sql.streaming.StreamingQuery at 0x7f59e5b52290>]"
      ]
     },
     "execution_count": 6,
     "metadata": {},
     "output_type": "execute_result"
    }
   ],
   "source": [
    "spark.streams.active"
   ]
  },
  {
   "cell_type": "code",
   "execution_count": 7,
   "id": "ad25b28b",
   "metadata": {},
   "outputs": [
    {
     "name": "stdout",
     "output_type": "stream",
     "text": [
      "+----------+-----+\n",
      "|        gt|count|\n",
      "+----------+-----+\n",
      "|  stairsup| 5187|\n",
      "|       sit| 7209|\n",
      "|     stand| 6268|\n",
      "|      walk| 6991|\n",
      "|      bike| 4019|\n",
      "|stairsdown| 4814|\n",
      "|      null| 4518|\n",
      "|  stairsup|10452|\n",
      "|       sit|12309|\n",
      "|     stand|11384|\n",
      "+----------+-----+\n",
      "\n"
     ]
    }
   ],
   "source": [
    "from time import sleep\n",
    "from IPython.display import display, clear_output\n",
    "for x in range(10):\n",
    "    clear_output(wait=True)\n",
    "    spark.sql(\"SELECT * FROM activity_counts limit 10\").show()\n",
    "    sleep(10)"
   ]
  },
  {
   "cell_type": "code",
   "execution_count": null,
   "id": "bd006376",
   "metadata": {},
   "outputs": [],
   "source": []
  }
 ],
 "metadata": {
  "kernelspec": {
   "display_name": "Python 3 (ipykernel)",
   "language": "python",
   "name": "python3"
  },
  "language_info": {
   "codemirror_mode": {
    "name": "ipython",
    "version": 3
   },
   "file_extension": ".py",
   "mimetype": "text/x-python",
   "name": "python",
   "nbconvert_exporter": "python",
   "pygments_lexer": "ipython3",
   "version": "3.7.10"
  }
 },
 "nbformat": 4,
 "nbformat_minor": 5
}
